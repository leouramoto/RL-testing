{
 "cells": [
  {
   "cell_type": "markdown",
   "metadata": {},
   "source": [
    "# Epsilon-greedy Q-learning for blackjack\n",
    "\n",
    "## Packages you need\n",
    "\n",
    "### OpenAI gym\n",
    "The environment containing blackjack. \n",
    "\n",
    "To install: pip install gym.\n",
    "\n",
    "### matplotlib\n",
    "For visualizing how different epsilon values affect the exploration and the policy. \n",
    "\n",
    "To install: pip install matplotlib\n",
    "\n",
    "### numpy\n",
    "General library for handling arrays.\n",
    "\n",
    "To install: pip install numpy"
   ]
  },
  {
   "cell_type": "code",
   "execution_count": 9,
   "metadata": {},
   "outputs": [],
   "source": [
    "import gym\n",
    "from gym import envs\n",
    "import numpy as np\n",
    "import matplotlib.pyplot as plt\n",
    "from copy import deepcopy"
   ]
  },
  {
   "cell_type": "markdown",
   "metadata": {},
   "source": [
    "Start by building the environment. Let's also set the seed to 0 to have the results be replicable. "
   ]
  },
  {
   "cell_type": "code",
   "execution_count": 10,
   "metadata": {},
   "outputs": [],
   "source": [
    "env = gym.make(\"Blackjack-v0\")\n",
    "env.seed(0);"
   ]
  },
  {
   "cell_type": "markdown",
   "metadata": {},
   "source": [
    "The gym environments can be interactd with using env.step function. In blackjack 0 signifies staying and 1 taking an additional card.\n",
    "\n",
    "Let's demonstrate the environment by playing a game. We reset the environment and get a triplet containing the value of our initial two cards, dealers face-up card and a boolean value signifying if we have an Ace. We will be ignoring the Ace in this notebook."
   ]
  },
  {
   "cell_type": "code",
   "execution_count": 11,
   "metadata": {},
   "outputs": [
    {
     "data": {
      "text/plain": [
       "(18, 1, False)"
      ]
     },
     "execution_count": 11,
     "metadata": {},
     "output_type": "execute_result"
    }
   ],
   "source": [
    "env.reset()"
   ]
  },
  {
   "cell_type": "markdown",
   "metadata": {},
   "source": [
    "We are at 18 and facing an 1 (an Ace). We should probably stay so let's call env.step(0):"
   ]
  },
  {
   "cell_type": "code",
   "execution_count": 12,
   "metadata": {},
   "outputs": [
    {
     "data": {
      "text/plain": [
       "((18, 1, False), 0.0, True, {})"
      ]
     },
     "execution_count": 12,
     "metadata": {},
     "output_type": "execute_result"
    }
   ],
   "source": [
    "env.step(0)"
   ]
  },
  {
   "cell_type": "markdown",
   "metadata": {},
   "source": [
    "We are now returned a more complex object. The first element of the array is the state as described above, followed by reward (0) and a boolean signifying if the game is over. The final element contains information not provided in the blackjack environment.\n",
    "\n",
    "So we can see that the game was a tie and we didn't win or lose anything. We could ask for the exact cards that held by both the player and the dealer:"
   ]
  },
  {
   "cell_type": "code",
   "execution_count": 13,
   "metadata": {},
   "outputs": [
    {
     "name": "stdout",
     "output_type": "stream",
     "text": [
      "Dealer has: [1, 7]\n",
      "\n",
      "You have: [10, 8]\n",
      "\n"
     ]
    }
   ],
   "source": [
    "print(\"Dealer has: {0}\\n\".format(env.dealer))\n",
    "print(\"You have: {0}\\n\".format(env.player))"
   ]
  },
  {
   "cell_type": "markdown",
   "metadata": {},
   "source": [
    "Now that we have a basic understanding of how the environment works we can try to create some kind of policy to interact with it.\n",
    "We have 2 actions - stay or hit - encoded as 0 and 1. We will now build a Q-table, a dictionary accessed with (our hand, dealer's hand, action) that contains what we believe to be the value of this action. We will initialize these values to 0."
   ]
  },
  {
   "cell_type": "code",
   "execution_count": 14,
   "metadata": {},
   "outputs": [],
   "source": [
    "q_table = {}\n",
    "for my_hand in range(1,22):\n",
    "    for dealers_hand in range(1,11):\n",
    "        for action in range(0,2):\n",
    "            q_table[(my_hand, dealers_hand, action)]=0"
   ]
  },
  {
   "cell_type": "markdown",
   "metadata": {},
   "source": [
    "We can now run do an experiment on how the exploration rate epsilon affects the policy. The more we explore the better policy we likely end up with. However this comes at a cost - exploring different strategies in blackjack is not free!\n",
    "\n",
    "Let's try playing TOTAL_HANDS hands of blackjack and use the first EXPLORATION_PORTION of the hands for policy exploration with the remaining ones  played using the policy we built. We will use different epsilon-values and then plot the loss over the total experiment to see how the epsilon value affects the result.\n",
    "\n",
    "We have two hyperparameters, LEARNING_RATE and DISCOUNT_FACTOR, that can be freely set. Number of different epsilon values to explore, EPSILON_COUNT, can also be chosen."
   ]
  },
  {
   "cell_type": "code",
   "execution_count": 15,
   "metadata": {},
   "outputs": [],
   "source": [
    "TOTAL_HANDS = 100000\n",
    "EXPLORATION_PORTION = 0.25\n",
    "EPSILON_COUNT = 20\n",
    "LEARNING_RATE = 0.1\n",
    "DISCOUNT_FACTOR = 0.99"
   ]
  },
  {
   "cell_type": "code",
   "execution_count": 16,
   "metadata": {},
   "outputs": [],
   "source": [
    "best_play_value = -float('inf')\n",
    "best_strategy = deepcopy(q_table)\n",
    "res = []\n",
    "exploration_hands = int(TOTAL_HANDS * EXPLORATION_PORTION)\n",
    "playing_hands = TOTAL_HANDS-exploration_hands\n",
    "\n",
    "# For each epsilon value run through the simulation\n",
    "for epsilon in np.linspace(0,1,EPSILON_COUNT):\n",
    "    total_training_reward = 0\n",
    "    # Exploration portion\n",
    "    # We play EXPLORATION_HANDS games and use the data to update our Q-table\n",
    "    for i in range(exploration_hands):\n",
    "        state = env.reset()\n",
    "        # Look at the Q-values we currently have for the actions and see which one is higher\n",
    "        # With probability epsilon switch to a random action\n",
    "        q_values = [q_table[state[0],state[1],0],q_table[state[0],state[1],0]]\n",
    "        takenaction = np.argmax(q_values)\n",
    "        if(np.random.uniform()<epsilon):\n",
    "            takenaction = np.random.randint(0,2)\n",
    "        \n",
    "        # Store the state and the action that will be taken\n",
    "        q_entries = [(state[0],state[1],takenaction)]\n",
    "        state = env.step(takenaction)\n",
    "        \n",
    "        # Keep playing until the game is over\n",
    "        while(state[2]==False):\n",
    "            # While the game is not over keep choosing an action and adding information to the q_entries list\n",
    "            q_values = [q_table[state[0][0],state[0][1],0],q_table[state[0][0],state[0][1],0]]\n",
    "            takenaction = np.argmax(q_values)\n",
    "            if(np.random.uniform()<epsilon):\n",
    "                takenaction = np.random.randint(0,2)\n",
    "            q_entries += [(state[0][0],state[0][1],takenaction)]\n",
    "            state = env.step(takenaction)\n",
    "\n",
    "        # The game is now over and we can retrieve the reward from state[1]\n",
    "        reward = state[1]\n",
    "        \n",
    "        # We will next traverse the recorded states in reverse order, updating our Q-table during the process\n",
    "        next_state = None\n",
    "        for q_entry in reversed(q_entries):\n",
    "            expected_reward = reward\n",
    "            if(next_state != None):\n",
    "                expected_reward = q_table[next_state] * DISCOUNT_FACTOR\n",
    "            previousvalue = q_table[q_entry]\n",
    "            q_table[q_entry] = previousvalue + LEARNING_RATE * (expected_reward - previousvalue)\n",
    "            next_state = q_entry\n",
    "        total_training_reward += reward\n",
    "    total_test_reward = 0\n",
    "    for i in range(playing_hands):\n",
    "        state = env.reset()\n",
    "        q_values = [q_table[state[0],state[1],0],q_table[state[0],state[1],0]]\n",
    "        takenaction = np.argmax(q_values)\n",
    "        state = env.step(takenaction)\n",
    "        while(state[2]==False):\n",
    "            q_values = [q_table[state[0],state[1],0],q_table[state[0],state[1],0]]\n",
    "            takenaction = np.argmax(q_values)\n",
    "            state = env.step(takenaction)\n",
    "        reward = state[1]\n",
    "        total_test_reward += reward\n",
    "    if(total_test_reward>best_play_value):\n",
    "        best_play_value = total_test_reward\n",
    "        best_strategy = deepcopy(q_table)\n",
    "    res += [[epsilon,total_training_reward, total_test_reward]]"
   ]
  },
  {
   "cell_type": "code",
   "execution_count": 17,
   "metadata": {},
   "outputs": [],
   "source": [
    "x = []\n",
    "exploration_reward = []\n",
    "playing_reward = []\n",
    "total_reward = []\n",
    "for r in res:\n",
    "    x += [r[0]]\n",
    "    exploration_reward+= [r[1]] \n",
    "    playing_reward += [r[2]]\n",
    "    total_reward += [r[1]+r[2]]"
   ]
  },
  {
   "cell_type": "markdown",
   "metadata": {},
   "source": [
    "We can now take a look at how much the exploration, playing and total costs were for different epsilon values:"
   ]
  },
  {
   "cell_type": "code",
   "execution_count": 18,
   "metadata": {},
   "outputs": [
    {
     "data": {
      "text/plain": [
       "<matplotlib.legend.Legend at 0x12588218b20>"
      ]
     },
     "execution_count": 18,
     "metadata": {},
     "output_type": "execute_result"
    },
    {
     "data": {
      "image/png": "[encoded data removed]",
      "text/plain": [
       "<Figure size 432x288 with 1 Axes>"
      ]
     },
     "metadata": {
      "needs_background": "light"
     },
     "output_type": "display_data"
    }
   ],
   "source": [
    "plt.plot(x,exploration_reward, label = \"Exploring\")\n",
    "plt.plot(x,playing_reward, label = \"Playing\")\n",
    "plt.plot(x, total_reward, label = \"Total\")\n",
    "plt.xlabel(\"Epsilon\")\n",
    "plt.ylabel(\"Sum of rewards\")\n",
    "plt.legend()"
   ]
  },
  {
   "cell_type": "markdown",
   "metadata": {},
   "source": [
    "As one would expect the higher the epsilon is the more expensive the exploration portion is. Interestingly it does not get offset by getting to play 3 times as many hands with the explored policy. Let's take a look at the best performing strategy to see how it looks like:"
   ]
  },
  {
   "cell_type": "code",
   "execution_count": 19,
   "metadata": {},
   "outputs": [
    {
     "name": "stdout",
     "output_type": "stream",
     "text": [
      "['Me/Dealer', 1, 2, 3, 4, 5, 6, 7, 8, 9, 10]\n",
      "[1, 'Hit', 'Hit', 'Hit', 'Hit', 'Hit', 'Hit', 'Hit', 'Hit', 'Hit', 'Hit']\n",
      "[2, 'Hit', 'Hit', 'Hit', 'Hit', 'Hit', 'Hit', 'Hit', 'Hit', 'Hit', 'Hit']\n",
      "[3, 'Hit', 'Hit', 'Hit', 'Hit', 'Hit', 'Hit', 'Hit', 'Hit', 'Hit', 'Hit']\n",
      "[4, 'Hit', 'Stay', 'Stay', 'Stay', 'Hit', 'Stay', 'Hit', 'Hit', 'Hit', 'Stay']\n",
      "[5, 'Hit', 'Hit', 'Stay', 'Stay', 'Hit', 'Hit', 'Stay', 'Hit', 'Stay', 'Hit']\n",
      "[6, 'Hit', 'Hit', 'Hit', 'Hit', 'Stay', 'Stay', 'Hit', 'Hit', 'Hit', 'Hit']\n",
      "[7, 'Hit', 'Stay', 'Hit', 'Stay', 'Hit', 'Stay', 'Hit', 'Hit', 'Hit', 'Stay']\n",
      "[8, 'Hit', 'Stay', 'Stay', 'Hit', 'Stay', 'Hit', 'Hit', 'Stay', 'Hit', 'Hit']\n",
      "[9, 'Hit', 'Hit', 'Hit', 'Stay', 'Hit', 'Hit', 'Hit', 'Stay', 'Hit', 'Hit']\n",
      "[10, 'Hit', 'Hit', 'Hit', 'Hit', 'Stay', 'Hit', 'Hit', 'Hit', 'Hit', 'Stay']\n",
      "[11, 'Hit', 'Hit', 'Hit', 'Stay', 'Hit', 'Stay', 'Hit', 'Hit', 'Hit', 'Stay']\n",
      "[12, 'Hit', 'Hit', 'Hit', 'Hit', 'Hit', 'Stay', 'Hit', 'Stay', 'Stay', 'Hit']\n",
      "[13, 'Hit', 'Stay', 'Hit', 'Hit', 'Stay', 'Stay', 'Hit', 'Hit', 'Hit', 'Hit']\n",
      "[14, 'Hit', 'Stay', 'Stay', 'Hit', 'Stay', 'Hit', 'Stay', 'Hit', 'Hit', 'Hit']\n",
      "[15, 'Stay', 'Hit', 'Hit', 'Hit', 'Hit', 'Hit', 'Stay', 'Stay', 'Hit', 'Stay']\n",
      "[16, 'Stay', 'Hit', 'Hit', 'Hit', 'Hit', 'Stay', 'Hit', 'Hit', 'Hit', 'Hit']\n",
      "[17, 'Hit', 'Hit', 'Stay', 'Stay', 'Hit', 'Stay', 'Hit', 'Hit', 'Stay', 'Stay']\n",
      "[18, 'Hit', 'Hit', 'Stay', 'Stay', 'Hit', 'Hit', 'Stay', 'Hit', 'Hit', 'Hit']\n",
      "[19, 'Hit', 'Stay', 'Stay', 'Hit', 'Hit', 'Stay', 'Stay', 'Stay', 'Hit', 'Hit']\n",
      "[20, 'Stay', 'Stay', 'Stay', 'Stay', 'Stay', 'Stay', 'Stay', 'Hit', 'Stay', 'Stay']\n",
      "[21, 'Stay', 'Stay', 'Stay', 'Stay', 'Stay', 'Stay', 'Stay', 'Hit', 'Stay', 'Stay']\n"
     ]
    }
   ],
   "source": [
    "strategy = []\n",
    "header = [\"Me/Dealer\"]\n",
    "for i in range(1,11):\n",
    "    header += [i]\n",
    "strategy += [header]\n",
    "for row in range(1,22):\n",
    "    s = [row]\n",
    "    for column in range(1,11):\n",
    "        command = [\"Hit\"]\n",
    "        if(best_strategy[(row,column,0)] > best_strategy[(row,column,1)]):\n",
    "            command = [\"Stay\"]\n",
    "        s+= command\n",
    "    strategy += [s]\n",
    "for strategyrow in strategy:\n",
    "    print(strategyrow)"
   ]
  },
  {
   "cell_type": "markdown",
   "metadata": {},
   "source": [
    "We can check how much we lost per hand with this strategy:"
   ]
  },
  {
   "cell_type": "code",
   "execution_count": 20,
   "metadata": {},
   "outputs": [
    {
     "data": {
      "text/plain": [
       "-0.18482533333333334"
      ]
     },
     "execution_count": 20,
     "metadata": {},
     "output_type": "execute_result"
    }
   ],
   "source": [
    "best_play_value/playing_hands"
   ]
  },
  {
   "cell_type": "markdown",
   "metadata": {},
   "source": [
    "While this is not very good we can compare it to what we expect to the worst strategy with the lowest value for epsilon:"
   ]
  },
  {
   "cell_type": "code",
   "execution_count": 21,
   "metadata": {},
   "outputs": [
    {
     "data": {
      "text/plain": [
       "-0.18611066666666667"
      ]
     },
     "execution_count": 21,
     "metadata": {},
     "output_type": "execute_result"
    }
   ],
   "source": [
    "playing_reward[0]/playing_hands"
   ]
  },
  {
   "cell_type": "code",
   "execution_count": null,
   "metadata": {},
   "outputs": [],
   "source": []
  }
 ],
 "metadata": {
  "kernelspec": {
   "display_name": "Python 3",
   "language": "python",
   "name": "python3"
  },
  "language_info": {
   "codemirror_mode": {
    "name": "ipython",
    "version": 3
   },
   "file_extension": ".py",
   "mimetype": "text/x-python",
   "name": "python",
   "nbconvert_exporter": "python",
   "pygments_lexer": "ipython3",
   "version": "3.8.5"
  }
 },
 "nbformat": 4,
 "nbformat_minor": 4
}
